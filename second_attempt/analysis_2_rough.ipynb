{
 "cells": [
  {
   "cell_type": "code",
   "execution_count": 13,
   "metadata": {},
   "outputs": [],
   "source": [
    "mV_0_C = 0\n",
    "mV_Kochend_Wasser_C = 79\n",
    "mV_neg_196 = -171.8\n",
    "\n",
    "T_Kochendes_Wasser = 98.1\n",
    "T_Sticksotff = -196"
   ]
  },
  {
   "cell_type": "code",
   "execution_count": 1,
   "metadata": {},
   "outputs": [],
   "source": [
    "def voltage_divider_voltage(R1, R2, voltage_ref):\n",
    "    \"\"\"\n",
    "    Calculate the voltage across R2 in a voltage divider circuit.\n",
    "    \"\"\"\n",
    "    return voltage_ref * R2 / (R1 + R2)"
   ]
  },
  {
   "cell_type": "code",
   "execution_count": 22,
   "metadata": {},
   "outputs": [
    {
     "name": "stdout",
     "output_type": "stream",
     "text": [
      "Expected voltage at 98.1°C: 0.079 V\n",
      "Expected voltage at -196°C: -0.170 V\n",
      "Measured voltage at 0°C: 0.0 V\n",
      "Measured voltage at 98.1°C: 0.079 V\n",
      "Measured voltage at -196°C: -0.1718 V\n"
     ]
    }
   ],
   "source": [
    "V_ref = 5.015  # Reference voltage in volts\n",
    "R1 = 2200\n",
    "R2 = 100\n",
    "\n",
    "R_2_Kochend_Wasser = pt100_resistance(T_Kochendes_Wasser)\n",
    "R_2_neg_196 = pt100_resistance(T_Sticksotff)\n",
    "\n",
    "V_1 = voltage_divider_voltage(R1, R2, V_ref)\n",
    "\n",
    "V_Kochend_Wasser_exp = voltage_divider_voltage(R1, R_2_Kochend_Wasser, V_ref) - V_1\n",
    "V_neg_196_exp = voltage_divider_voltage(R1, R_2_neg_196, V_ref) - V_1\n",
    "\n",
    "print(f\"Expected voltage at 98.1°C: {V_Kochend_Wasser_exp:.3f} V\")\n",
    "print(f\"Expected voltage at -196°C: {V_neg_196_exp:.3f} V\")\n",
    "\n",
    "# print measured \n",
    "print(f\"Measured voltage at 0°C: {mV_0_C/1000} V\")\n",
    "print(f\"Measured voltage at 98.1°C: {mV_Kochend_Wasser_C/1000} V\")\n",
    "print(f\"Measured voltage at -196°C: {mV_neg_196/1000} V\")\n",
    "\n"
   ]
  },
  {
   "cell_type": "code",
   "execution_count": null,
   "metadata": {},
   "outputs": [],
   "source": []
  }
 ],
 "metadata": {
  "kernelspec": {
   "display_name": "physik",
   "language": "python",
   "name": "python3"
  },
  "language_info": {
   "codemirror_mode": {
    "name": "ipython",
    "version": 3
   },
   "file_extension": ".py",
   "mimetype": "text/x-python",
   "name": "python",
   "nbconvert_exporter": "python",
   "pygments_lexer": "ipython3",
   "version": "3.12.0"
  }
 },
 "nbformat": 4,
 "nbformat_minor": 2
}
